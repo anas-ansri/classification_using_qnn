{
 "cells": [
  {
   "cell_type": "code",
   "execution_count": 20,
   "metadata": {},
   "outputs": [
    {
     "name": "stdout",
     "output_type": "stream",
     "text": [
      "       objID               ra              dec        ...    i        z    \n",
      "------------------- ---------------- ---------------- ... -------- --------\n",
      "1237667324334572172 194.947661330704 28.0301307220555 ...  20.0887 19.81706\n",
      "1237667444048659202 194.960702912321 27.9408020610893 ... 20.24938  19.8858\n",
      "1237667444048659529 194.959889906099 27.9479991272033 ...  21.3758 20.87376\n",
      "1237667444048659387 194.946245248948 27.9356596453102 ... 20.50144 27.92347\n",
      "1237667444048659279 194.998542854312 27.9525324098509 ... 19.99479 19.85638\n"
     ]
    }
   ],
   "source": [
    "from astroquery.sdss import SDSS\n",
    "from astropy import coordinates as coords\n",
    "import astropy.units as u\n",
    "\n",
    "# Define a coordinate object for the center of the search\n",
    "# For example, let's use the location of the Coma Cluster\n",
    "coma_cluster = coords.SkyCoord(194.9531, 27.9807, unit=(u.deg, u.deg), frame='icrs')\n",
    "\n",
    "\n",
    "# Define the query to select galaxies within 0.1 degrees from the Coma Cluster\n",
    "query = \"\"\"\n",
    "SELECT TOP 5\n",
    "  p.objID, p.ra, p.dec, p.u, p.g, p.r, p.i, p.z\n",
    "FROM PhotoObj AS p\n",
    "  JOIN dbo.fGetNearbyObjEq({ra},{dec},3) AS n ON n.objID = p.objID\n",
    "WHERE\n",
    "  p.type = 3\n",
    "\"\"\".format(ra=coma_cluster.ra.deg, dec=coma_cluster.dec.deg)\n",
    "\n",
    "# Execute the query\n",
    "results = SDSS.query_sql(query)\n",
    "\n",
    "# Display the results\n",
    "print(results)"
   ]
  },
  {
   "cell_type": "code",
   "execution_count": 6,
   "metadata": {},
   "outputs": [
    {
     "name": "stdout",
     "output_type": "stream",
     "text": [
      "Downloading images...\n",
      "Download complete.\n"
     ]
    }
   ],
   "source": [
    "import os\n",
    "from astroquery.sdss import SDSS\n",
    "from astropy.coordinates import SkyCoord\n",
    "import astropy.units as u\n",
    "\n",
    "# Create a directory for galaxy images if it doesn't exist\n",
    "os.makedirs('data', exist_ok=True)\n",
    "\n",
    "# Function to download images\n",
    "def download_images(table):\n",
    "    for row in table:\n",
    "        coords = SkyCoord(ra=row['ra']*u.deg, dec=row['dec']*u.deg, frame='icrs')\n",
    "        images = SDSS.get_images(coordinates=coords, band='g', timeout=30)\n",
    "        for image in images:\n",
    "            image.writeto(f'data/{row[\"objID\"]}.fits', overwrite=True)\n",
    "\n",
    "# Call the function to download images\n",
    "print('Downloading images...')\n",
    "# Using the previously obtained results\n",
    "# Note: The variable 'results' should contain the result from the previous query\n",
    "# If the variable is not available, we need to re-run the query\n",
    "if 'results' in locals():\n",
    "    download_images(results)\n",
    "else:\n",
    "    print('Query results not found. Please re-run the query.')\n",
    "print('Download complete.')"
   ]
  },
  {
   "cell_type": "code",
   "execution_count": 9,
   "metadata": {},
   "outputs": [
    {
     "ename": "UnitTypeError",
     "evalue": "Angle instances require units equivalent to 'rad', but no unit was given.",
     "output_type": "error",
     "traceback": [
      "\u001b[1;31m---------------------------------------------------------------------------\u001b[0m",
      "\u001b[1;31mUnitTypeError\u001b[0m                             Traceback (most recent call last)",
      "Cell \u001b[1;32mIn[9], line 1\u001b[0m\n\u001b[1;32m----> 1\u001b[0m coords \u001b[38;5;241m=\u001b[39m \u001b[43mSkyCoord\u001b[49m\u001b[43m(\u001b[49m\u001b[43mra\u001b[49m\u001b[38;5;241;43m=\u001b[39;49m\u001b[43m \u001b[49m\u001b[43m[\u001b[49m\u001b[38;5;241;43m135.6891066\u001b[39;49m\u001b[43m]\u001b[49m\n\u001b[0;32m      2\u001b[0m \u001b[43m,\u001b[49m\u001b[43m \u001b[49m\u001b[43mdec\u001b[49m\u001b[38;5;241;43m=\u001b[39;49m\u001b[43m \u001b[49m\u001b[43m[\u001b[49m\u001b[38;5;241;43m32.49463184\u001b[39;49m\u001b[43m]\u001b[49m\n\u001b[0;32m      3\u001b[0m \u001b[43m,\u001b[49m\u001b[43m \u001b[49m\u001b[43mframe\u001b[49m\u001b[38;5;241;43m=\u001b[39;49m\u001b[38;5;124;43m'\u001b[39;49m\u001b[38;5;124;43micrs\u001b[39;49m\u001b[38;5;124;43m'\u001b[39;49m\u001b[43m)\u001b[49m\n\u001b[0;32m      5\u001b[0m images \u001b[38;5;241m=\u001b[39m SDSS\u001b[38;5;241m.\u001b[39mget_images(coordinates\u001b[38;5;241m=\u001b[39mcoords, band\u001b[38;5;241m=\u001b[39m\u001b[38;5;124m'\u001b[39m\u001b[38;5;124mg\u001b[39m\u001b[38;5;124m'\u001b[39m, timeout\u001b[38;5;241m=\u001b[39m\u001b[38;5;241m30\u001b[39m)\n\u001b[0;32m      6\u001b[0m \u001b[38;5;28;01mfor\u001b[39;00m image \u001b[38;5;129;01min\u001b[39;00m images:\n",
      "File \u001b[1;32md:\\Software\\anaconda3\\Lib\\site-packages\\astropy\\coordinates\\sky_coordinate.py:331\u001b[0m, in \u001b[0;36mSkyCoord.__init__\u001b[1;34m(self, copy, *args, **kwargs)\u001b[0m\n\u001b[0;32m    327\u001b[0m \u001b[38;5;66;03m# Parse the args and kwargs to assemble a sanitized and validated\u001b[39;00m\n\u001b[0;32m    328\u001b[0m \u001b[38;5;66;03m# kwargs dict for initializing attributes for this object and for\u001b[39;00m\n\u001b[0;32m    329\u001b[0m \u001b[38;5;66;03m# creating the internal self._sky_coord_frame object\u001b[39;00m\n\u001b[0;32m    330\u001b[0m args \u001b[38;5;241m=\u001b[39m \u001b[38;5;28mlist\u001b[39m(args)  \u001b[38;5;66;03m# Make it mutable\u001b[39;00m\n\u001b[1;32m--> 331\u001b[0m skycoord_kwargs, components, info \u001b[38;5;241m=\u001b[39m \u001b[43m_parse_coordinate_data\u001b[49m\u001b[43m(\u001b[49m\n\u001b[0;32m    332\u001b[0m \u001b[43m    \u001b[49m\u001b[43mframe_cls\u001b[49m\u001b[43m(\u001b[49m\u001b[38;5;241;43m*\u001b[39;49m\u001b[38;5;241;43m*\u001b[39;49m\u001b[43mframe_kwargs\u001b[49m\u001b[43m)\u001b[49m\u001b[43m,\u001b[49m\u001b[43m \u001b[49m\u001b[43margs\u001b[49m\u001b[43m,\u001b[49m\u001b[43m \u001b[49m\u001b[43mkwargs\u001b[49m\u001b[43m)\u001b[49m\n\u001b[0;32m    334\u001b[0m \u001b[38;5;66;03m# In the above two parsing functions, these kwargs were identified\u001b[39;00m\n\u001b[0;32m    335\u001b[0m \u001b[38;5;66;03m# as valid frame attributes for *some* frame, but not the frame that\u001b[39;00m\n\u001b[0;32m    336\u001b[0m \u001b[38;5;66;03m# this SkyCoord will have. We keep these attributes as special\u001b[39;00m\n\u001b[0;32m    337\u001b[0m \u001b[38;5;66;03m# skycoord frame attributes:\u001b[39;00m\n\u001b[0;32m    338\u001b[0m \u001b[38;5;28;01mfor\u001b[39;00m attr \u001b[38;5;129;01min\u001b[39;00m skycoord_kwargs:\n\u001b[0;32m    339\u001b[0m     \u001b[38;5;66;03m# Setting it will also validate it.\u001b[39;00m\n",
      "File \u001b[1;32md:\\Software\\anaconda3\\Lib\\site-packages\\astropy\\coordinates\\sky_coordinate_parsers.py:240\u001b[0m, in \u001b[0;36m_parse_coordinate_data\u001b[1;34m(frame, args, kwargs)\u001b[0m\n\u001b[0;32m    236\u001b[0m units \u001b[38;5;241m=\u001b[39m _get_representation_component_units(args, kwargs)\n\u001b[0;32m    238\u001b[0m \u001b[38;5;66;03m# Grab any frame-specific attr names like `ra` or `l` or `distance` from\u001b[39;00m\n\u001b[0;32m    239\u001b[0m \u001b[38;5;66;03m# kwargs and move them to valid_components.\u001b[39;00m\n\u001b[1;32m--> 240\u001b[0m valid_components\u001b[38;5;241m.\u001b[39mupdate(\u001b[43m_get_representation_attrs\u001b[49m\u001b[43m(\u001b[49m\u001b[43mframe\u001b[49m\u001b[43m,\u001b[49m\u001b[43m \u001b[49m\u001b[43munits\u001b[49m\u001b[43m,\u001b[49m\u001b[43m \u001b[49m\u001b[43mkwargs\u001b[49m\u001b[43m)\u001b[49m)\n\u001b[0;32m    242\u001b[0m \u001b[38;5;66;03m# Error if anything is still left in kwargs\u001b[39;00m\n\u001b[0;32m    243\u001b[0m \u001b[38;5;28;01mif\u001b[39;00m kwargs:\n\u001b[0;32m    244\u001b[0m     \u001b[38;5;66;03m# The next few lines add a more user-friendly error message to a\u001b[39;00m\n\u001b[0;32m    245\u001b[0m     \u001b[38;5;66;03m# common and confusing situation when the user specifies, e.g.,\u001b[39;00m\n\u001b[0;32m    246\u001b[0m     \u001b[38;5;66;03m# `pm_ra` when they really should be passing `pm_ra_cosdec`. The\u001b[39;00m\n\u001b[0;32m    247\u001b[0m     \u001b[38;5;66;03m# extra error should only turn on when the positional representation\u001b[39;00m\n\u001b[0;32m    248\u001b[0m     \u001b[38;5;66;03m# is spherical, and when the component 'pm_<lon>' is passed.\u001b[39;00m\n",
      "File \u001b[1;32md:\\Software\\anaconda3\\Lib\\site-packages\\astropy\\coordinates\\sky_coordinate_parsers.py:588\u001b[0m, in \u001b[0;36m_get_representation_attrs\u001b[1;34m(frame, units, kwargs)\u001b[0m\n\u001b[0;32m    586\u001b[0m \u001b[38;5;28;01mif\u001b[39;00m value \u001b[38;5;129;01mis\u001b[39;00m \u001b[38;5;129;01mnot\u001b[39;00m \u001b[38;5;28;01mNone\u001b[39;00m:\n\u001b[0;32m    587\u001b[0m     \u001b[38;5;28;01mtry\u001b[39;00m:\n\u001b[1;32m--> 588\u001b[0m         valid_kwargs[frame_attr_name] \u001b[38;5;241m=\u001b[39m \u001b[43mrepr_attr_class\u001b[49m\u001b[43m(\u001b[49m\u001b[43mvalue\u001b[49m\u001b[43m,\u001b[49m\u001b[43m \u001b[49m\u001b[43munit\u001b[49m\u001b[38;5;241;43m=\u001b[39;49m\u001b[43munit\u001b[49m\u001b[43m)\u001b[49m\n\u001b[0;32m    589\u001b[0m     \u001b[38;5;28;01mexcept\u001b[39;00m u\u001b[38;5;241m.\u001b[39mUnitConversionError \u001b[38;5;28;01mas\u001b[39;00m err:\n\u001b[0;32m    590\u001b[0m         error_message \u001b[38;5;241m=\u001b[39m (\n\u001b[0;32m    591\u001b[0m             \u001b[38;5;124mf\u001b[39m\u001b[38;5;124m\"\u001b[39m\u001b[38;5;124mUnit \u001b[39m\u001b[38;5;124m'\u001b[39m\u001b[38;5;132;01m{\u001b[39;00munit\u001b[38;5;132;01m}\u001b[39;00m\u001b[38;5;124m'\u001b[39m\u001b[38;5;124m (\u001b[39m\u001b[38;5;132;01m{\u001b[39;00munit\u001b[38;5;241m.\u001b[39mphysical_type\u001b[38;5;132;01m}\u001b[39;00m\u001b[38;5;124m) could not be applied to \u001b[39m\u001b[38;5;124m'\u001b[39m\u001b[38;5;132;01m{\u001b[39;00mframe_attr_name\u001b[38;5;132;01m}\u001b[39;00m\u001b[38;5;124m'\u001b[39m\u001b[38;5;124m. \u001b[39m\u001b[38;5;124m\"\u001b[39m\n\u001b[0;32m    592\u001b[0m             \u001b[38;5;124m\"\u001b[39m\u001b[38;5;124mThis can occur when passing units for some coordinate components \u001b[39m\u001b[38;5;124m\"\u001b[39m\n\u001b[1;32m   (...)\u001b[0m\n\u001b[0;32m    595\u001b[0m             \u001b[38;5;124m\"\u001b[39m\u001b[38;5;124mor pass Quantities for all components.\u001b[39m\u001b[38;5;124m\"\u001b[39m\n\u001b[0;32m    596\u001b[0m         )\n",
      "File \u001b[1;32md:\\Software\\anaconda3\\Lib\\site-packages\\astropy\\coordinates\\angles.py:679\u001b[0m, in \u001b[0;36mLongitude.__new__\u001b[1;34m(cls, angle, unit, wrap_angle, **kwargs)\u001b[0m\n\u001b[0;32m    676\u001b[0m \u001b[38;5;28;01mif\u001b[39;00m \u001b[38;5;28misinstance\u001b[39m(angle, Latitude):\n\u001b[0;32m    677\u001b[0m     \u001b[38;5;28;01mraise\u001b[39;00m \u001b[38;5;167;01mTypeError\u001b[39;00m(\u001b[38;5;124m\"\u001b[39m\u001b[38;5;124mA Longitude angle cannot be created from \u001b[39m\u001b[38;5;124m\"\u001b[39m\n\u001b[0;32m    678\u001b[0m                     \u001b[38;5;124m\"\u001b[39m\u001b[38;5;124ma Latitude angle.\u001b[39m\u001b[38;5;124m\"\u001b[39m)\n\u001b[1;32m--> 679\u001b[0m \u001b[38;5;28mself\u001b[39m \u001b[38;5;241m=\u001b[39m \u001b[38;5;28;43msuper\u001b[39;49m\u001b[43m(\u001b[49m\u001b[43m)\u001b[49m\u001b[38;5;241;43m.\u001b[39;49m\u001b[38;5;21;43m__new__\u001b[39;49m\u001b[43m(\u001b[49m\u001b[38;5;28;43mcls\u001b[39;49m\u001b[43m,\u001b[49m\u001b[43m \u001b[49m\u001b[43mangle\u001b[49m\u001b[43m,\u001b[49m\u001b[43m \u001b[49m\u001b[43munit\u001b[49m\u001b[38;5;241;43m=\u001b[39;49m\u001b[43munit\u001b[49m\u001b[43m,\u001b[49m\u001b[43m \u001b[49m\u001b[38;5;241;43m*\u001b[39;49m\u001b[38;5;241;43m*\u001b[39;49m\u001b[43mkwargs\u001b[49m\u001b[43m)\u001b[49m\n\u001b[0;32m    680\u001b[0m \u001b[38;5;28;01mif\u001b[39;00m wrap_angle \u001b[38;5;129;01mis\u001b[39;00m \u001b[38;5;28;01mNone\u001b[39;00m:\n\u001b[0;32m    681\u001b[0m     wrap_angle \u001b[38;5;241m=\u001b[39m \u001b[38;5;28mgetattr\u001b[39m(angle, \u001b[38;5;124m'\u001b[39m\u001b[38;5;124mwrap_angle\u001b[39m\u001b[38;5;124m'\u001b[39m, \u001b[38;5;28mself\u001b[39m\u001b[38;5;241m.\u001b[39m_default_wrap_angle)\n",
      "File \u001b[1;32md:\\Software\\anaconda3\\Lib\\site-packages\\astropy\\coordinates\\angles.py:140\u001b[0m, in \u001b[0;36mAngle.__new__\u001b[1;34m(cls, angle, unit, dtype, copy, **kwargs)\u001b[0m\n\u001b[0;32m    135\u001b[0m             angle \u001b[38;5;241m=\u001b[39m u\u001b[38;5;241m.\u001b[39mQuantity(angle, angle_unit, copy\u001b[38;5;241m=\u001b[39m\u001b[38;5;28;01mFalse\u001b[39;00m)\n\u001b[0;32m    137\u001b[0m     \u001b[38;5;28;01melif\u001b[39;00m (isiterable(angle) \u001b[38;5;129;01mand\u001b[39;00m\n\u001b[0;32m    138\u001b[0m           \u001b[38;5;129;01mnot\u001b[39;00m (\u001b[38;5;28misinstance\u001b[39m(angle, np\u001b[38;5;241m.\u001b[39mndarray) \u001b[38;5;129;01mand\u001b[39;00m\n\u001b[0;32m    139\u001b[0m                angle\u001b[38;5;241m.\u001b[39mdtype\u001b[38;5;241m.\u001b[39mkind \u001b[38;5;129;01mnot\u001b[39;00m \u001b[38;5;129;01min\u001b[39;00m \u001b[38;5;124m'\u001b[39m\u001b[38;5;124mSUVO\u001b[39m\u001b[38;5;124m'\u001b[39m)):\n\u001b[1;32m--> 140\u001b[0m         angle \u001b[38;5;241m=\u001b[39m \u001b[43m[\u001b[49m\u001b[43mAngle\u001b[49m\u001b[43m(\u001b[49m\u001b[43mx\u001b[49m\u001b[43m,\u001b[49m\u001b[43m \u001b[49m\u001b[43munit\u001b[49m\u001b[43m,\u001b[49m\u001b[43m \u001b[49m\u001b[43mcopy\u001b[49m\u001b[38;5;241;43m=\u001b[39;49m\u001b[38;5;28;43;01mFalse\u001b[39;49;00m\u001b[43m)\u001b[49m\u001b[43m \u001b[49m\u001b[38;5;28;43;01mfor\u001b[39;49;00m\u001b[43m \u001b[49m\u001b[43mx\u001b[49m\u001b[43m \u001b[49m\u001b[38;5;129;43;01min\u001b[39;49;00m\u001b[43m \u001b[49m\u001b[43mangle\u001b[49m\u001b[43m]\u001b[49m\n\u001b[0;32m    142\u001b[0m \u001b[38;5;28;01mreturn\u001b[39;00m \u001b[38;5;28msuper\u001b[39m()\u001b[38;5;241m.\u001b[39m\u001b[38;5;21m__new__\u001b[39m(\u001b[38;5;28mcls\u001b[39m, angle, unit, dtype\u001b[38;5;241m=\u001b[39mdtype, copy\u001b[38;5;241m=\u001b[39mcopy,\n\u001b[0;32m    143\u001b[0m                        \u001b[38;5;241m*\u001b[39m\u001b[38;5;241m*\u001b[39mkwargs)\n",
      "File \u001b[1;32md:\\Software\\anaconda3\\Lib\\site-packages\\astropy\\coordinates\\angles.py:140\u001b[0m, in \u001b[0;36m<listcomp>\u001b[1;34m(.0)\u001b[0m\n\u001b[0;32m    135\u001b[0m             angle \u001b[38;5;241m=\u001b[39m u\u001b[38;5;241m.\u001b[39mQuantity(angle, angle_unit, copy\u001b[38;5;241m=\u001b[39m\u001b[38;5;28;01mFalse\u001b[39;00m)\n\u001b[0;32m    137\u001b[0m     \u001b[38;5;28;01melif\u001b[39;00m (isiterable(angle) \u001b[38;5;129;01mand\u001b[39;00m\n\u001b[0;32m    138\u001b[0m           \u001b[38;5;129;01mnot\u001b[39;00m (\u001b[38;5;28misinstance\u001b[39m(angle, np\u001b[38;5;241m.\u001b[39mndarray) \u001b[38;5;129;01mand\u001b[39;00m\n\u001b[0;32m    139\u001b[0m                angle\u001b[38;5;241m.\u001b[39mdtype\u001b[38;5;241m.\u001b[39mkind \u001b[38;5;129;01mnot\u001b[39;00m \u001b[38;5;129;01min\u001b[39;00m \u001b[38;5;124m'\u001b[39m\u001b[38;5;124mSUVO\u001b[39m\u001b[38;5;124m'\u001b[39m)):\n\u001b[1;32m--> 140\u001b[0m         angle \u001b[38;5;241m=\u001b[39m [\u001b[43mAngle\u001b[49m\u001b[43m(\u001b[49m\u001b[43mx\u001b[49m\u001b[43m,\u001b[49m\u001b[43m \u001b[49m\u001b[43munit\u001b[49m\u001b[43m,\u001b[49m\u001b[43m \u001b[49m\u001b[43mcopy\u001b[49m\u001b[38;5;241;43m=\u001b[39;49m\u001b[38;5;28;43;01mFalse\u001b[39;49;00m\u001b[43m)\u001b[49m \u001b[38;5;28;01mfor\u001b[39;00m x \u001b[38;5;129;01min\u001b[39;00m angle]\n\u001b[0;32m    142\u001b[0m \u001b[38;5;28;01mreturn\u001b[39;00m \u001b[38;5;28msuper\u001b[39m()\u001b[38;5;241m.\u001b[39m\u001b[38;5;21m__new__\u001b[39m(\u001b[38;5;28mcls\u001b[39m, angle, unit, dtype\u001b[38;5;241m=\u001b[39mdtype, copy\u001b[38;5;241m=\u001b[39mcopy,\n\u001b[0;32m    143\u001b[0m                        \u001b[38;5;241m*\u001b[39m\u001b[38;5;241m*\u001b[39mkwargs)\n",
      "File \u001b[1;32md:\\Software\\anaconda3\\Lib\\site-packages\\astropy\\coordinates\\angles.py:142\u001b[0m, in \u001b[0;36mAngle.__new__\u001b[1;34m(cls, angle, unit, dtype, copy, **kwargs)\u001b[0m\n\u001b[0;32m    137\u001b[0m     \u001b[38;5;28;01melif\u001b[39;00m (isiterable(angle) \u001b[38;5;129;01mand\u001b[39;00m\n\u001b[0;32m    138\u001b[0m           \u001b[38;5;129;01mnot\u001b[39;00m (\u001b[38;5;28misinstance\u001b[39m(angle, np\u001b[38;5;241m.\u001b[39mndarray) \u001b[38;5;129;01mand\u001b[39;00m\n\u001b[0;32m    139\u001b[0m                angle\u001b[38;5;241m.\u001b[39mdtype\u001b[38;5;241m.\u001b[39mkind \u001b[38;5;129;01mnot\u001b[39;00m \u001b[38;5;129;01min\u001b[39;00m \u001b[38;5;124m'\u001b[39m\u001b[38;5;124mSUVO\u001b[39m\u001b[38;5;124m'\u001b[39m)):\n\u001b[0;32m    140\u001b[0m         angle \u001b[38;5;241m=\u001b[39m [Angle(x, unit, copy\u001b[38;5;241m=\u001b[39m\u001b[38;5;28;01mFalse\u001b[39;00m) \u001b[38;5;28;01mfor\u001b[39;00m x \u001b[38;5;129;01min\u001b[39;00m angle]\n\u001b[1;32m--> 142\u001b[0m \u001b[38;5;28;01mreturn\u001b[39;00m \u001b[38;5;28;43msuper\u001b[39;49m\u001b[43m(\u001b[49m\u001b[43m)\u001b[49m\u001b[38;5;241;43m.\u001b[39;49m\u001b[38;5;21;43m__new__\u001b[39;49m\u001b[43m(\u001b[49m\u001b[38;5;28;43mcls\u001b[39;49m\u001b[43m,\u001b[49m\u001b[43m \u001b[49m\u001b[43mangle\u001b[49m\u001b[43m,\u001b[49m\u001b[43m \u001b[49m\u001b[43munit\u001b[49m\u001b[43m,\u001b[49m\u001b[43m \u001b[49m\u001b[43mdtype\u001b[49m\u001b[38;5;241;43m=\u001b[39;49m\u001b[43mdtype\u001b[49m\u001b[43m,\u001b[49m\u001b[43m \u001b[49m\u001b[43mcopy\u001b[49m\u001b[38;5;241;43m=\u001b[39;49m\u001b[43mcopy\u001b[49m\u001b[43m,\u001b[49m\n\u001b[0;32m    143\u001b[0m \u001b[43m                       \u001b[49m\u001b[38;5;241;43m*\u001b[39;49m\u001b[38;5;241;43m*\u001b[39;49m\u001b[43mkwargs\u001b[49m\u001b[43m)\u001b[49m\n",
      "File \u001b[1;32md:\\Software\\anaconda3\\Lib\\site-packages\\astropy\\units\\quantity.py:523\u001b[0m, in \u001b[0;36mQuantity.__new__\u001b[1;34m(cls, value, unit, dtype, copy, order, subok, ndmin)\u001b[0m\n\u001b[0;32m    520\u001b[0m         \u001b[38;5;28mcls\u001b[39m \u001b[38;5;241m=\u001b[39m qcls\n\u001b[0;32m    522\u001b[0m value \u001b[38;5;241m=\u001b[39m value\u001b[38;5;241m.\u001b[39mview(\u001b[38;5;28mcls\u001b[39m)\n\u001b[1;32m--> 523\u001b[0m \u001b[43mvalue\u001b[49m\u001b[38;5;241;43m.\u001b[39;49m\u001b[43m_set_unit\u001b[49m\u001b[43m(\u001b[49m\u001b[43mvalue_unit\u001b[49m\u001b[43m)\u001b[49m\n\u001b[0;32m    524\u001b[0m \u001b[38;5;28;01mif\u001b[39;00m unit \u001b[38;5;129;01mis\u001b[39;00m value_unit:\n\u001b[0;32m    525\u001b[0m     \u001b[38;5;28;01mreturn\u001b[39;00m value\n",
      "File \u001b[1;32md:\\Software\\anaconda3\\Lib\\site-packages\\astropy\\coordinates\\angles.py:164\u001b[0m, in \u001b[0;36mAngle._set_unit\u001b[1;34m(self, unit)\u001b[0m\n\u001b[0;32m    163\u001b[0m \u001b[38;5;28;01mdef\u001b[39;00m \u001b[38;5;21m_set_unit\u001b[39m(\u001b[38;5;28mself\u001b[39m, unit):\n\u001b[1;32m--> 164\u001b[0m     \u001b[38;5;28;43msuper\u001b[39;49m\u001b[43m(\u001b[49m\u001b[43m)\u001b[49m\u001b[38;5;241;43m.\u001b[39;49m\u001b[43m_set_unit\u001b[49m\u001b[43m(\u001b[49m\u001b[38;5;28;43mself\u001b[39;49m\u001b[38;5;241;43m.\u001b[39;49m\u001b[43m_convert_unit_to_angle_unit\u001b[49m\u001b[43m(\u001b[49m\u001b[43munit\u001b[49m\u001b[43m)\u001b[49m\u001b[43m)\u001b[49m\n",
      "File \u001b[1;32md:\\Software\\anaconda3\\Lib\\site-packages\\astropy\\units\\quantity.py:1938\u001b[0m, in \u001b[0;36mSpecificTypeQuantity._set_unit\u001b[1;34m(self, unit)\u001b[0m\n\u001b[0;32m   1936\u001b[0m \u001b[38;5;28;01mdef\u001b[39;00m \u001b[38;5;21m_set_unit\u001b[39m(\u001b[38;5;28mself\u001b[39m, unit):\n\u001b[0;32m   1937\u001b[0m     \u001b[38;5;28;01mif\u001b[39;00m unit \u001b[38;5;129;01mis\u001b[39;00m \u001b[38;5;28;01mNone\u001b[39;00m \u001b[38;5;129;01mor\u001b[39;00m \u001b[38;5;129;01mnot\u001b[39;00m unit\u001b[38;5;241m.\u001b[39mis_equivalent(\u001b[38;5;28mself\u001b[39m\u001b[38;5;241m.\u001b[39m_equivalent_unit):\n\u001b[1;32m-> 1938\u001b[0m         \u001b[38;5;28;01mraise\u001b[39;00m UnitTypeError(\n\u001b[0;32m   1939\u001b[0m             \u001b[38;5;124m\"\u001b[39m\u001b[38;5;132;01m{}\u001b[39;00m\u001b[38;5;124m instances require units equivalent to \u001b[39m\u001b[38;5;124m'\u001b[39m\u001b[38;5;132;01m{}\u001b[39;00m\u001b[38;5;124m'\u001b[39m\u001b[38;5;124m\"\u001b[39m\n\u001b[0;32m   1940\u001b[0m             \u001b[38;5;241m.\u001b[39mformat(\u001b[38;5;28mtype\u001b[39m(\u001b[38;5;28mself\u001b[39m)\u001b[38;5;241m.\u001b[39m\u001b[38;5;18m__name__\u001b[39m, \u001b[38;5;28mself\u001b[39m\u001b[38;5;241m.\u001b[39m_equivalent_unit) \u001b[38;5;241m+\u001b[39m\n\u001b[0;32m   1941\u001b[0m             (\u001b[38;5;124m\"\u001b[39m\u001b[38;5;124m, but no unit was given.\u001b[39m\u001b[38;5;124m\"\u001b[39m \u001b[38;5;28;01mif\u001b[39;00m unit \u001b[38;5;129;01mis\u001b[39;00m \u001b[38;5;28;01mNone\u001b[39;00m \u001b[38;5;28;01melse\u001b[39;00m\n\u001b[0;32m   1942\u001b[0m              \u001b[38;5;124mf\u001b[39m\u001b[38;5;124m\"\u001b[39m\u001b[38;5;124m, so cannot set it to \u001b[39m\u001b[38;5;124m'\u001b[39m\u001b[38;5;132;01m{\u001b[39;00munit\u001b[38;5;132;01m}\u001b[39;00m\u001b[38;5;124m'\u001b[39m\u001b[38;5;124m.\u001b[39m\u001b[38;5;124m\"\u001b[39m))\n\u001b[0;32m   1944\u001b[0m     \u001b[38;5;28msuper\u001b[39m()\u001b[38;5;241m.\u001b[39m_set_unit(unit)\n",
      "\u001b[1;31mUnitTypeError\u001b[0m: Angle instances require units equivalent to 'rad', but no unit was given."
     ]
    }
   ],
   "source": [
    "coords = SkyCoord(ra= [135.6891066]\n",
    ", dec= [32.49463184]\n",
    ", frame='icrs')\n",
    "\n",
    "images = SDSS.get_images(coordinates=coords, band='g', timeout=30)\n",
    "for image in images:\n",
    "    image.writeto(f'data/test.fits', overwrite=True)"
   ]
  },
  {
   "cell_type": "code",
   "execution_count": null,
   "metadata": {},
   "outputs": [],
   "source": []
  }
 ],
 "metadata": {
  "kernelspec": {
   "display_name": "base",
   "language": "python",
   "name": "python3"
  },
  "language_info": {
   "codemirror_mode": {
    "name": "ipython",
    "version": 3
   },
   "file_extension": ".py",
   "mimetype": "text/x-python",
   "name": "python",
   "nbconvert_exporter": "python",
   "pygments_lexer": "ipython3",
   "version": "3.11.4"
  }
 },
 "nbformat": 4,
 "nbformat_minor": 2
}
