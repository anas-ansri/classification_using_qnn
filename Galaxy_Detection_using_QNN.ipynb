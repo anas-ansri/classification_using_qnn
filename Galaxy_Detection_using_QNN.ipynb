{
  "cells": [
    {
      "cell_type": "markdown",
      "metadata": {
        "id": "Ap7nRE9m6rXh"
      },
      "source": [
        "# Classifying existence of Galaxy using Quantum Machine Learning\n",
        "\n",
        "\n",
        "\n",
        "The accuracy of the model is $94\\%$ via a quantum machine learning model from NASA image. The image is further divided into a small $16 \\times 16$ image as input data. \n",
        "\n",
        "-----\n",
        "\n",
        "Then the data is encoded and trained using a quantum circuit using the parameterized quantum circuit taken from the paper [Expressibilitty and entangling capability of parameterized quantum circuit for hybrid quantum-classical algorithms](https://arxiv.org/abs/1905.10876).\n",
        "\n",
        "-----\n",
        "\n",
        "With the high expressibility of the circuit, the model is trained and tested with Cross-Entropy as the Loss function and **L-BFGS** algorithm for optimization.\n",
        "\n",
        "\n",
        "This algorithm is realized in **PyTorch** and **Qiskit** machine learning module."
      ]
    },
    {
      "cell_type": "markdown",
      "metadata": {
        "id": "4_4Ylck69OK9"
      },
      "source": [
        "## Pre-Processing of Image\n",
        "\n",
        "\n",
        "Import necessary Libraries for Image pre-processing"
      ]
    },
    {
      "cell_type": "code",
      "execution_count": 43,
      "metadata": {
        "id": "PEOinaYO5cIs"
      },
      "outputs": [],
      "source": [
        "import random\n",
        "import numpy as np\n",
        "import matplotlib.pyplot as plt\n",
        "from PIL import Image\n",
        "import sys\n",
        "sys.path.append('PyFiles')   # where the Helper files are saved"
      ]
    },
    {
      "cell_type": "code",
      "execution_count": 44,
      "metadata": {},
      "outputs": [],
      "source": [
        "# Pull in the helper files.\n",
        "from ImageRead import *  # the helper files we created to read Images\n",
        "from QNN import *        # the helper file that creates the QNN"
      ]
    },
    {
      "cell_type": "code",
      "execution_count": 33,
      "metadata": {
        "id": "YMKRo4jl5cI7"
      },
      "outputs": [],
      "source": [
        "target_o = [1 for i in range(60)]+[0 for i in range(60)]\n"
      ]
    },
    {
      "cell_type": "code",
      "execution_count": null,
      "metadata": {},
      "outputs": [],
      "source": []
    },
    {
      "cell_type": "markdown",
      "metadata": {
        "id": "z7EuQ86NC1Bp"
      },
      "source": [
        "## Loading the dataset\n",
        "\n",
        "Load all the data files from the respective data folder and use the helper function to divide the images into smaller parts to make it easier for the QNN to read and make sense of."
      ]
    },
    {
      "cell_type": "code",
      "execution_count": 34,
      "metadata": {
        "id": "j0hhVp4p5cI_"
      },
      "outputs": [
        {
          "name": "stdout",
          "output_type": "stream",
          "text": [
            "[[ 1  3  3  1  2  3  1  3  3  1  0  1  4  3  3  5]\n",
            " [ 1  3  3  1  3  5  2  5  5  3  1  3  7  6  3  3]\n",
            " [ 5  5  4  1  1  2  2  6  6  4  1  5  5  3  4  4]\n",
            " [ 8  5  4  4  2  5  8  8  9  5  2  7  6  3  6  7]\n",
            " [ 3  4  2  4  3  8 17 14  7  5  5  7  9  5  6  4]\n",
            " [ 3  5  8  7  9 16 20 21 14  9  8  9  9  8  8  6]\n",
            " [ 4  5 10 11 15 24 34 43 37 26 17 10  6  4  2  3]\n",
            " [ 3  3  3  7 19 31 52 78 69 45 25 13  9  4  1  2]\n",
            " [10  7  4 10 18 22 54 92 80 46 23 16  9  3  5  4]\n",
            " [18  7  6 11 16 19 38 59 53 33 20 17 10  5  7  4]\n",
            " [15  7  6  8 13 19 22 26 28 22 14 16 11  7  6  2]\n",
            " [ 7  7  6  5  9 12 13 12 15 12  9 13 13  9  6  2]\n",
            " [ 4  5  2  1  5  6  6  9  7  6  9  8  9  4  6  4]\n",
            " [ 2  5  3  1  2  3  3  5  7  8  6  6  7  5  6  4]\n",
            " [ 2  3  4  5  5  4  3  3  6  6  8  7  9  9  7  7]\n",
            " [ 2  1  1  3  4  3  1  2  3  1  4  6  8  6  5  6]]\n",
            "[[  6   8  14  11   7  14  24  25  21  10  18  11  13  15   7   9]\n",
            " [  5   7   9   9  11   7  14  22  16  10  16  10  10  10   9  15]\n",
            " [  8  14  10   8  13  11  10  15  14  10   8   6   4   5  14  16]\n",
            " [  6  12  12   9  10  17  15  15  15   8   2   3   5   5   8   7]\n",
            " [  5   8  10   7  10  14  13  22  19  11   8   6   6   6   2   2]\n",
            " [ 12  12  11   8   9  15  25  36  38  23  13   9   9   6   5   2]\n",
            " [ 11   7   6   4  11  32  52  74  72  41  21  10  10   7   7   2]\n",
            " [  5   6   7  10  17  39 100 163 146  73  32  12   8   6   7   5]\n",
            " [  6   8  12  14  23  40 123 196 182  95  42  21  10   8   8   8]\n",
            " [  7   6   9  15  20  33  73 125 121  74  40  15  10  13  14  16]\n",
            " [  3   4   8  14  15  25  37  50  50  43  28  14  21  28  24  21]\n",
            " [  4   5   4   7  11  14  18  23  20  17  16  18  28  32  19  10]\n",
            " [  7   3   3   7  11   9   6  11  11   7   8   8   9  14   9   3]\n",
            " [ 11  10  10   8   6   6   8  14  15  10   8   4   6  11   9   3]\n",
            " [  8  12  17  10   7  13  10  13  14  12  10   5   9   9   6   7]\n",
            " [  7   5  14  12   9  15  11  10   9   9   7   4   6   7   8   7]]\n",
            "[[ 1  3  3  1  2  3  1  3  3  1  0  1  4  3  3  5]\n",
            " [ 1  3  3  1  3  5  2  5  5  3  1  3  7  6  3  3]\n",
            " [ 5  5  4  1  1  2  2  6  6  4  1  5  5  3  4  4]\n",
            " [ 8  5  4  4  2  5  8  8  9  5  2  7  6  3  6  7]\n",
            " [ 3  4  2  4  3  8 17 14  7  5  5  7  9  5  6  4]\n",
            " [ 3  5  8  7  9 16 20 21 14  9  8  9  9  8  8  6]\n",
            " [ 4  5 10 11 15 24 34 43 37 26 17 10  6  4  2  3]\n",
            " [ 3  3  3  7 19 31 52 78 69 45 25 13  9  4  1  2]\n",
            " [10  7  4 10 18 22 54 92 80 46 23 16  9  3  5  4]\n",
            " [18  7  6 11 16 19 38 59 53 33 20 17 10  5  7  4]\n",
            " [15  7  6  8 13 19 22 26 28 22 14 16 11  7  6  2]\n",
            " [ 7  7  6  5  9 12 13 12 15 12  9 13 13  9  6  2]\n",
            " [ 4  5  2  1  5  6  6  9  7  6  9  8  9  4  6  4]\n",
            " [ 2  5  3  1  2  3  3  5  7  8  6  6  7  5  6  4]\n",
            " [ 2  3  4  5  5  4  3  3  6  6  8  7  9  9  7  7]\n",
            " [ 2  1  1  3  4  3  1  2  3  1  4  6  8  6  5  6]]\n"
          ]
        }
      ],
      "source": [
        "pathY=r'galaxy_images/'\n",
        "pathN=r'no_galaxy_images/'\n",
        "nameN=''\n",
        "nameY=''\n",
        "\n",
        "inputY=[imageResize(callImage(i+1,pathY,nameY),16) for i in range(60)]\n",
        "inputN=[imageResize(callImage(i+1,pathN,nameN),16) for i in range(60)]\n",
        "print(inputY[0])\n",
        "print(inputN[0])\n",
        "input_combine = inputY+inputN\n",
        "print(input_combine[0])"
      ]
    },
    {
      "cell_type": "markdown",
      "metadata": {
        "id": "u17hzIPlDNEr"
      },
      "source": [
        "Randomize and Re-Shuffle the data set to make it better to train."
      ]
    },
    {
      "cell_type": "code",
      "execution_count": 35,
      "metadata": {
        "id": "PWO4DFzv5cJK"
      },
      "outputs": [],
      "source": [
        "np.random.seed(0)\n",
        "idx=np.array([int(i) for i in range(50)]).flatten()\n",
        "\n",
        "np.random.shuffle(idx)\n",
        "\n",
        "dataInput = list(input_combine[i] for i in idx )\n",
        "dataTarget = list( imageBinarize(input_combine[i]) for i in idx )\n",
        "\n",
        "data_target_o=list( target_o[i] for i in idx )"
      ]
    },
    {
      "cell_type": "markdown",
      "metadata": {
        "id": "Cj4u8emLDUKL"
      },
      "source": [
        "## Visualize\n",
        "\n",
        "Display the images from the folder after all the pre-processing and ready to be feeded to the QNN."
      ]
    },
    {
      "cell_type": "code",
      "execution_count": 36,
      "metadata": {
        "id": "cjKji2Xa5cJM",
        "outputId": "ddc756ec-e181-48e6-fd24-b6c0e39d77aa"
      },
      "outputs": [
        {
          "data": {
            "image/png": "[encoded data removed]",
            "text/plain": [
              "<Figure size 2000x600 with 20 Axes>"
            ]
          },
          "metadata": {},
          "output_type": "display_data"
        }
      ],
      "source": [
        "n_samples_show = 10\n",
        "fig, axes = plt.subplots(nrows=2, ncols=n_samples_show, figsize=(20, 6))\n",
        "\n",
        "for i in range(n_samples_show):\n",
        "\n",
        "    axes[0,i].imshow(dataInput[i], cmap='gray')\n",
        "    axes[0,i].set_xticks([])\n",
        "    axes[0,i].set_yticks([])\n",
        "    axes[1,i].imshow(dataInput[i+5], cmap='gray')\n",
        "    axes[1,i].set_xticks([])\n",
        "    axes[1,i].set_yticks([])    \n"
      ]
    },
    {
      "cell_type": "markdown",
      "metadata": {
        "id": "aBcnyyP-DeTG"
      },
      "source": [
        "## The Quantum Neural Network\n",
        "\n",
        "\n",
        "Import necessary files for the training."
      ]
    },
    {
      "cell_type": "code",
      "execution_count": 37,
      "metadata": {
        "id": "trdX82lA5cJX"
      },
      "outputs": [],
      "source": [
        "from qiskit import Aer, QuantumCircuit\n",
        "from qiskit.circuit.parameter import Parameter\n",
        "from qiskit_machine_learning.connectors import TorchConnector\n",
        "from qiskit.utils import QuantumInstance\n",
        "from torch.nn import Linear, CrossEntropyLoss, MSELoss\n",
        "from torch.optim import LBFGS, SGD,Adam\n",
        "from PyFiles.QNN import circuit15, encoding, parity\n",
        "from qiskit.circuit.library import RealAmplitudes, ZZFeatureMap\n",
        "from qiskit_machine_learning.algorithms.classifiers import NeuralNetworkClassifier, VQC\n",
        "from qiskit.algorithms.optimizers import COBYLA, L_BFGS_B\n",
        "from qiskit_machine_learning.neural_networks import SamplerQNN\n",
        "from qiskit.primitives import Sampler\n",
        "\n",
        "\n",
        "sampler = Sampler()\n",
        "\n",
        "\n",
        "\n",
        "# Model for LBFGS\n",
        "# Combining the circuit together with CircuitQNN\n",
        "np.random.seed(3)\n",
        "\n",
        "\n",
        "nqubits=6\n",
        "num_inputs=256\n",
        "qc = QuantumCircuit(nqubits)\n",
        "\n",
        "# Encoding\n",
        "param_x=[];\n",
        "for i in range(num_inputs):\n",
        "    param_x.append(Parameter('x'+str(i)))\n",
        "for i in range(8):\n",
        "    param_x.append(np.pi/2)\n",
        "\n",
        "\n",
        "feature_map = encoding(qc,param_x,22)\n",
        "\n",
        "\n",
        "# Optimzing circuit PQC\n",
        "param_y=[];\n",
        "for i in range(nqubits*2):\n",
        "    param_y.append(Parameter('θ'+str(i)))\n",
        "\n",
        "ansatz=circuit15(qc,param_y)\n",
        "\n",
        "qc.append(feature_map, range(nqubits))\n",
        "qc.append(ansatz, range(nqubits))\n",
        "\n",
        "# qnn2 = CircuitQNN(qc, input_params=feature_map.parameters, weight_params=ansatz.parameters, \n",
        "#                   interpret=parity, output_shape=2, quantum_instance=qi)\n",
        "qnn2 = SamplerQNN(circuit= qc,  input_params=feature_map.parameters, weight_params=ansatz.parameters, \n",
        "                  interpret=parity, output_shape=2, sampler= sampler)\n",
        "initial_weights = 0.1*(2*np.random.rand(qnn2.num_weights) - 1)\n"
      ]
    },
    {
      "cell_type": "markdown",
      "metadata": {
        "id": "YxOGd0gn5cJ_"
      },
      "source": [
        "# Learning Rate 0.05\n",
        "\n",
        "Training the model with a Learning Rate of 0.05"
      ]
    },
    {
      "cell_type": "code",
      "execution_count": 38,
      "metadata": {
        "id": "FcnqOwQv5cKK"
      },
      "outputs": [],
      "source": [
        "# define optimizer and loss function\n",
        "\n",
        "from PyFiles.QNN import normlaizeData\n",
        "\n",
        "\n",
        "model2 = TorchConnector(qnn2, initial_weights)\n",
        "\n",
        "optimizer = LBFGS(model2.parameters(),lr=0.05)\n",
        "f_loss = CrossEntropyLoss()\n",
        "\n",
        "X= [normlaizeData(dataInput[i].flatten()) for i in range(50)]\n",
        "y01= [data_target_o[i] for i in range(50)]"
      ]
    },
    {
      "cell_type": "code",
      "execution_count": 39,
      "metadata": {
        "id": "K0iuvuUi5cKM",
        "outputId": "47817de0-799c-4d9a-b9ed-2bf90f3d4060"
      },
      "outputs": [
        {
          "name": "stdout",
          "output_type": "stream",
          "text": [
            "Accuracy: 1.0\n"
          ]
        }
      ],
      "source": [
        "from torch import Tensor\n",
        "# traning model accuracy\n",
        "y_predict = []\n",
        "for x in X:\n",
        "    output = model2(Tensor(x))\n",
        "    y_predict += [np.argmax(output.detach().numpy())]\n",
        "\n",
        "print('Accuracy:', sum(y_predict == np.array(y01))/len(np.array(y01)))"
      ]
    },
    {
      "cell_type": "markdown",
      "metadata": {
        "id": "Fm1Jj2XKENP_"
      },
      "source": [
        "This accuracy without applying any optimizer and just running on the first instance, as expected that the model is correct half of the time, even if you randomly classify the images you'll get the accuracy near $50\\%$ , so that's what we see here."
      ]
    },
    {
      "cell_type": "code",
      "execution_count": 10,
      "metadata": {
        "id": "wC9qiJET5cKO"
      },
      "outputs": [],
      "source": [
        "# define optimizer and loss function\n",
        "\n",
        "model2 = TorchConnector(qnn2, initial_weights)\n",
        "\n",
        "optimizer = LBFGS(model2.parameters(),lr=0.05)\n",
        "f_loss = CrossEntropyLoss()\n",
        "\n",
        "X= [normlaizeData(dataInput[i].flatten()) for i in range(50)]\n",
        "y01= [data_target_o[i] for i in range(50)]"
      ]
    },
    {
      "cell_type": "code",
      "execution_count": 11,
      "metadata": {
        "id": "LEQQKM__5cKQ",
        "outputId": "49afb082-5339-49e6-a86a-11a16d7c1282"
      },
      "outputs": [
        {
          "name": "stdout",
          "output_type": "stream",
          "text": [
            "33.18708801269531\n",
            "33.108192443847656\n",
            "32.4072380065918\n",
            "32.03237533569336\n",
            "31.895145416259766\n",
            "31.78937530517578\n",
            "31.689733505249023\n",
            "31.59193229675293\n",
            "31.493995666503906\n",
            "31.396451950073242\n",
            "31.30402946472168\n",
            "31.22391700744629\n",
            "31.15971565246582\n",
            "31.109495162963867\n",
            "31.069421768188477\n",
            "31.036239624023438\n"
          ]
        }
      ],
      "source": [
        "from torch import Tensor\n",
        "# start training\n",
        "\n",
        "model2.train()    # set model to training mode\n",
        "\n",
        "# define objective function\n",
        "def closure():\n",
        "    optimizer.zero_grad()                                  # initialize gradient\n",
        "    loss = 0.0                                             # initialize loss    \n",
        "    for x, y_target in zip(X, y01):                        # evaluate batch loss\n",
        "        output = model2(Tensor(x)).reshape(1, 2)           # forward pass\n",
        "        loss += f_loss(output, Tensor([y_target]).long())\n",
        "    loss.backward()                                        # backward pass\n",
        "    print(loss.item())                                     # print loss\n",
        "    return loss\n",
        "\n",
        "# run optimizer\n",
        "optimizer.step(closure) \n",
        "optimizer.step(closure)"
      ]
    },
    {
      "cell_type": "code",
      "execution_count": null,
      "metadata": {
        "id": "VWezyfvi5cKR",
        "outputId": "4aab0de1-7161-47eb-e6f4-69ecfef059e1"
      },
      "outputs": [
        {
          "name": "stdout",
          "output_type": "stream",
          "text": [
            "Accuracy: 0.92\n"
          ]
        }
      ],
      "source": [
        "# traning model accuracy\n",
        "y_predict = []\n",
        "for x in X:\n",
        "    output = model2(Tensor(x))\n",
        "    y_predict += [np.argmax(output.detach().numpy())]\n",
        "\n",
        "print('Accuracy:', sum(y_predict == np.array(y01))/len(np.array(y01)))"
      ]
    },
    {
      "cell_type": "markdown",
      "metadata": {
        "id": "JVM_b1C7EBZm"
      },
      "source": [
        "Here you can see that the accuracy goes to $92\\%$ , which says that our model is good at classifying."
      ]
    },
    {
      "cell_type": "markdown",
      "metadata": {
        "id": "x9ZsRoQh5cKV"
      },
      "source": [
        "# Learning rate 0.06\n",
        "\n",
        "Increasing the Learning Rate with $+0.01$ to $0.06$, we'll see how it affects the accuracy."
      ]
    },
    {
      "cell_type": "code",
      "execution_count": null,
      "metadata": {
        "id": "pSBdJB1h5cKX",
        "outputId": "52bd2aa4-df87-4f4e-f376-ae513d0e5fe3"
      },
      "outputs": [
        {
          "name": "stdout",
          "output_type": "stream",
          "text": [
            "Accuracy: 0.46\n"
          ]
        }
      ],
      "source": [
        "# define optimizer and loss function\n",
        "from torch import Tensor\n",
        "model2 = TorchConnector(qnn2, initial_weights)\n",
        "\n",
        "optimizer = LBFGS(model2.parameters(),lr=0.06)\n",
        "f_loss = CrossEntropyLoss()\n",
        "\n",
        "X= [normlaizeData(dataInput[i].flatten()) for i in range(50)]\n",
        "y01= [data_target_o[i] for i in range(50)]\n",
        "\n",
        "y_predict = []\n",
        "for x in X:\n",
        "    output = model2(Tensor(x))\n",
        "    y_predict += [np.argmax(output.detach().numpy())]\n",
        "\n",
        "print('Accuracy:', sum(y_predict == np.array(y01))/len(np.array(y01)))"
      ]
    },
    {
      "cell_type": "code",
      "execution_count": null,
      "metadata": {
        "id": "8CbTEQys5cKZ",
        "outputId": "af452188-8426-4ba7-e912-35cb101c0aaf"
      },
      "outputs": [
        {
          "name": "stdout",
          "output_type": "stream",
          "text": [
            "33.18708801269531\n",
            "33.092506408691406\n",
            "32.27847671508789\n",
            "31.932584762573242\n",
            "31.801755905151367\n",
            "31.696422576904297\n",
            "31.596323013305664\n",
            "31.49781036376953\n",
            "31.399715423583984\n",
            "31.304540634155273\n",
            "31.219013214111328\n",
            "31.14921760559082\n",
            "31.095157623291016\n",
            "31.052919387817383\n",
            "31.01851463317871\n",
            "30.989017486572266\n",
            "30.96230697631836\n",
            "30.936681747436523\n",
            "30.910457611083984\n",
            "30.88165283203125\n",
            "30.847291946411133\n",
            "30.801864624023438\n",
            "30.7325382232666\n",
            "30.610553741455078\n",
            "30.497982025146484\n",
            "30.462387084960938\n",
            "30.439420700073242\n",
            "30.41527557373047\n",
            "30.38955307006836\n",
            "30.363304138183594\n",
            "30.336950302124023\n",
            "30.31045150756836\n",
            "30.28369903564453\n",
            "30.256694793701172\n",
            "30.22960662841797\n",
            "30.202392578125\n",
            "30.172588348388672\n",
            "30.144634246826172\n",
            "30.120256423950195\n",
            "30.096738815307617\n"
          ]
        },
        {
          "data": {
            "text/plain": [
              "tensor(30.8473, grad_fn=<AddBackward0>)"
            ]
          },
          "execution_count": 13,
          "metadata": {},
          "output_type": "execute_result"
        }
      ],
      "source": [
        "from torch import Tensor\n",
        "# start training\n",
        "\n",
        "model2.train()    # set model to training mode\n",
        "\n",
        "# define objective function\n",
        "def closure():\n",
        "    optimizer.zero_grad()                                  # initialize gradient\n",
        "    loss = 0.0                                             # initialize loss    \n",
        "    for x, y_target in zip(X, y01):                        # evaluate batch loss\n",
        "        output = model2(Tensor(x)).reshape(1, 2)           # forward pass\n",
        "        loss += f_loss(output, Tensor([y_target]).long())\n",
        "    loss.backward()                                        # backward pass\n",
        "    print(loss.item())                                     # print loss\n",
        "    return loss\n",
        "\n",
        "# run optimizer\n",
        "optimizer.step(closure)\n",
        "optimizer.step(closure)"
      ]
    },
    {
      "cell_type": "code",
      "execution_count": null,
      "metadata": {
        "id": "I33pz30p5cKb",
        "outputId": "4c015516-4b15-4a64-ae4a-c0312e6c47ee"
      },
      "outputs": [
        {
          "name": "stdout",
          "output_type": "stream",
          "text": [
            "Accuracy: 0.92\n"
          ]
        }
      ],
      "source": [
        "# traning model accuracy\n",
        "y_predict = []\n",
        "for x in X:\n",
        "    output = model2(Tensor(x))\n",
        "    y_predict += [np.argmax(output.detach().numpy())]\n",
        "\n",
        "print('Accuracy:', sum(y_predict == np.array(y01))/len(np.array(y01)))"
      ]
    },
    {
      "cell_type": "markdown",
      "metadata": {
        "id": "qQUb7q5BEyqZ"
      },
      "source": [
        "We see the accuracy drops to $92\\%$ from $94\\%$."
      ]
    },
    {
      "cell_type": "markdown",
      "metadata": {
        "id": "1co0XUZm5cKd"
      },
      "source": [
        "# Learning Rate 0.07\n",
        "\n",
        "Increasing the accuracy even further by $0.01$"
      ]
    },
    {
      "cell_type": "code",
      "execution_count": null,
      "metadata": {
        "id": "HkMzQ3VM5cKe",
        "outputId": "a96725e8-4003-4381-fd06-93abbbd5af38"
      },
      "outputs": [
        {
          "name": "stdout",
          "output_type": "stream",
          "text": [
            "Accuracy: 0.46\n"
          ]
        }
      ],
      "source": [
        "# define optimizer and loss function\n",
        "from torch import Tensor\n",
        "model2 = TorchConnector(qnn2, initial_weights)\n",
        "\n",
        "optimizer = LBFGS(model2.parameters(),lr=0.07)\n",
        "f_loss = CrossEntropyLoss()\n",
        "\n",
        "X= [normlaizeData(dataInput[i].flatten()) for i in range(50)]\n",
        "y01= [data_target_o[i] for i in range(50)]\n",
        "\n",
        "y_predict = []\n",
        "for x in X:\n",
        "    output = model2(Tensor(x))\n",
        "    y_predict += [np.argmax(output.detach().numpy())]\n",
        "\n",
        "print('Accuracy:', sum(y_predict == np.array(y01))/len(np.array(y01)))"
      ]
    },
    {
      "cell_type": "code",
      "execution_count": null,
      "metadata": {
        "id": "43MQltGY5cKg",
        "outputId": "2e02fbdc-8f77-4281-8a9d-f15f1ebdc4bc"
      },
      "outputs": [
        {
          "name": "stdout",
          "output_type": "stream",
          "text": [
            "33.18708801269531\n",
            "33.07685089111328\n",
            "32.15932846069336\n",
            "31.843116760253906\n",
            "31.71990394592285\n",
            "31.616920471191406\n",
            "31.518083572387695\n",
            "31.42047691345215\n",
            "31.324111938476562\n",
            "31.233501434326172\n",
            "31.156253814697266\n",
            "31.095962524414062\n",
            "31.04983901977539\n",
            "31.013206481933594\n",
            "30.98231315612793\n",
            "30.954456329345703\n",
            "30.927480697631836\n",
            "30.899188995361328\n",
            "30.866764068603516\n",
            "30.82535743713379\n",
            "30.764251708984375\n",
            "30.654775619506836\n",
            "30.505294799804688\n",
            "30.467437744140625\n",
            "30.445926666259766\n",
            "30.420310974121094\n",
            "30.390424728393555\n",
            "30.358802795410156\n",
            "30.326568603515625\n",
            "30.2938232421875\n",
            "30.260597229003906\n",
            "30.227100372314453\n",
            "30.19232749938965\n",
            "30.15595245361328\n",
            "30.12395477294922\n",
            "30.094696044921875\n",
            "30.066675186157227\n",
            "30.039791107177734\n",
            "30.01435661315918\n",
            "29.9906005859375\n"
          ]
        },
        {
          "data": {
            "text/plain": [
              "tensor(30.7643, grad_fn=<AddBackward0>)"
            ]
          },
          "execution_count": 16,
          "metadata": {},
          "output_type": "execute_result"
        }
      ],
      "source": [
        "from torch import Tensor\n",
        "# start training\n",
        "\n",
        "model2.train()    # set model to training mode\n",
        "\n",
        "# define objective function\n",
        "def closure():\n",
        "    optimizer.zero_grad()                                  # initialize gradient\n",
        "    loss = 0.0                                             # initialize loss    \n",
        "    for x, y_target in zip(X, y01):                        # evaluate batch loss\n",
        "        output = model2(Tensor(x)).reshape(1, 2)           # forward pass\n",
        "        loss += f_loss(output, Tensor([y_target]).long())\n",
        "    loss.backward()                                        # backward pass\n",
        "    print(loss.item())                                     # print loss\n",
        "    return loss\n",
        "\n",
        "# run optimizer\n",
        "optimizer.step(closure)\n",
        "optimizer.step(closure)"
      ]
    },
    {
      "cell_type": "code",
      "execution_count": null,
      "metadata": {
        "id": "ge1Gn9LZ5cKi",
        "outputId": "130750ae-3ca5-48b4-b17a-151f361b31bc"
      },
      "outputs": [
        {
          "name": "stdout",
          "output_type": "stream",
          "text": [
            "Accuracy: 0.92\n"
          ]
        }
      ],
      "source": [
        "# traning model accuracy\n",
        "y_predict = []\n",
        "for x in X:\n",
        "    output = model2(Tensor(x))\n",
        "    y_predict += [np.argmax(output.detach().numpy())]\n",
        "\n",
        "print('Accuracy:', sum(y_predict == np.array(y01))/len(np.array(y01)))"
      ]
    },
    {
      "cell_type": "markdown",
      "metadata": {
        "id": "gqx8ign8FBr8"
      },
      "source": [
        "The acciracy remained constant at $92\\%$"
      ]
    },
    {
      "cell_type": "markdown",
      "metadata": {
        "id": "5S5UyxQK5cKq"
      },
      "source": [
        "# Test Model\n",
        "\n",
        "Testing the model with unseen data."
      ]
    },
    {
      "cell_type": "code",
      "execution_count": 42,
      "metadata": {
        "id": "fVScoBD75cKs",
        "outputId": "2f0f203e-74e0-4fa1-d36c-c54de5b65489"
      },
      "outputs": [
        {
          "name": "stdout",
          "output_type": "stream",
          "text": [
            "Accuracy25data: 0.4\n",
            "Accuracy50data: 0.5\n"
          ]
        }
      ],
      "source": [
        "target_o = [1 for i in range(25)]+[0 for i in range(25)]\n",
        "\n",
        "pathY=r'dataset/galaxy1/'\n",
        "pathN=r'dataset/No-galaxy1/'\n",
        "nameN=''\n",
        "nameY=''\n",
        "inputY=[imageResize(callImage(i+1,pathY,nameY),16) for i in range(25)]\n",
        "inputN=[imageResize(callImage(i+1,pathN,nameN),16) for i in range(25)]\n",
        "input_combine = inputY+inputN\n",
        "\n",
        "np.random.seed(0)\n",
        "idx=np.array([int(i) for i in range(50)]).flatten()\n",
        "\n",
        "np.random.shuffle(idx)\n",
        "\n",
        "dataInput = list(input_combine[i] for i in idx )\n",
        "dataTarget = list( imageBinarize(input_combine[i]) for i in idx )\n",
        "\n",
        "data_target_o=list( target_o[i] for i in idx )\n",
        "\n",
        "Xtest= [normlaizeData(dataInput[i].flatten()) for i in range(25)]\n",
        "y01test= [data_target_o[i] for i in range(25)]\n",
        "\n",
        "Xtest1= [normlaizeData(dataInput[i].flatten()) for i in range(50)]\n",
        "y01test1= [data_target_o[i] for i in range(50)]\n",
        "\n",
        "y_predict = []\n",
        "for x in Xtest:\n",
        "    output = model2(Tensor(x))\n",
        "    y_predict += [np.argmax(output.detach().numpy())]\n",
        "\n",
        "print('Accuracy25data:', sum(y_predict == np.array(y01test))/len(np.array(y01test)))\n",
        "\n",
        "y_predict1 = []\n",
        "for x in Xtest1:\n",
        "    output = model2(Tensor(x))\n",
        "    y_predict1 += [np.argmax(output.detach().numpy())]\n",
        "\n",
        "print('Accuracy50data:', sum(y_predict1 == np.array(y01test1))/len(np.array(y01test1)))"
      ]
    },
    {
      "cell_type": "markdown",
      "metadata": {
        "id": "O6HXVKzwFU9t"
      },
      "source": [
        "The accuracy on different unseen data ranges from $80-84\\%$.\n",
        "\n",
        "\n",
        "We can say the model performs good on the unseen data too.\n",
        " \n",
        "\n",
        "We need new techniques to train the Hyperparameters to better fine tune them and reduce the computational time."
      ]
    }
  ],
  "metadata": {
    "colab": {
      "include_colab_link": true,
      "provenance": []
    },
    "interpreter": {
      "hash": "3bc52ef4732c2c89ac1c67f1a564bc39cd50f6fed15c43a2bb566bf993475a13"
    },
    "kernelspec": {
      "display_name": "Python 3.8.9 ('qc': venv)",
      "language": "python",
      "name": "python3"
    },
    "language_info": {
      "codemirror_mode": {
        "name": "ipython",
        "version": 3
      },
      "file_extension": ".py",
      "mimetype": "text/x-python",
      "name": "python",
      "nbconvert_exporter": "python",
      "pygments_lexer": "ipython3",
      "version": "3.11.4"
    }
  },
  "nbformat": 4,
  "nbformat_minor": 0
}
