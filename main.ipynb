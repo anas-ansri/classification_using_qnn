{
 "cells": [
  {
   "cell_type": "code",
   "execution_count": 3,
   "metadata": {},
   "outputs": [],
   "source": [
    "import random\n",
    "import numpy as np\n",
    "import matplotlib.pyplot as plt\n",
    "\n",
    "import sys\n",
    "sys.path.append('PyFiles')   # where the Helper files are saved\n",
    "# Pull in the helper files.\n",
    "from ImageRead import *  # the helper files we created to read Images\n",
    "from QNN import *        # the helper file that creates the QNN\n"
   ]
  },
  {
   "cell_type": "code",
   "execution_count": 4,
   "metadata": {},
   "outputs": [],
   "source": [
    "target_o = [1 for i in range(25)]+[0 for i in range(25)]\n"
   ]
  },
  {
   "cell_type": "code",
   "execution_count": null,
   "metadata": {},
   "outputs": [],
   "source": [
    "#Loading the dataset\n",
    "from ImageRead import callImage, imageResize, imageBinarize  \n",
    "\n",
    "\n",
    "pathY=r'dataset/Original/galaxy/'\n",
    "pathN=r'dataset/Original/No-galaxy/'\n",
    "nameN=''\n",
    "nameY=''\n",
    "\n",
    "inputY=[imageResize(callImage(i+1,pathY,nameY),16) for i in range(25)]\n",
    "inputN=[imageResize(callImage(i+1,pathN,nameN),16) for i in range(25)]\n",
    "input_combine = inputY+inputN\n"
   ]
  }
 ],
 "metadata": {
  "kernelspec": {
   "display_name": "base",
   "language": "python",
   "name": "python3"
  },
  "language_info": {
   "codemirror_mode": {
    "name": "ipython",
    "version": 3
   },
   "file_extension": ".py",
   "mimetype": "text/x-python",
   "name": "python",
   "nbconvert_exporter": "python",
   "pygments_lexer": "ipython3",
   "version": "3.11.4"
  }
 },
 "nbformat": 4,
 "nbformat_minor": 2
}
